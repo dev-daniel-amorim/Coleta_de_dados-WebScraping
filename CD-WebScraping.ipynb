{
 "cells": [
  {
   "cell_type": "markdown",
   "id": "b95f1414",
   "metadata": {},
   "source": [
    "# Coleta de dados - Web Scraping\n",
    "\n",
    "Uma das etapas de um projeto data science é a coleta de dados, Web Scraping é um método de coleta onde podemos usar a ferramenta Selenium do Python para realizar automação web.<br>\n",
    "O intuito deste material é apresentar a biblioteca Selenium do python, com ela vamos aprender métodos e módulos para extração de dados via web.<br>"
   ]
  },
  {
   "cell_type": "code",
   "execution_count": 10,
   "id": "96fec5ec",
   "metadata": {},
   "outputs": [],
   "source": [
    "from selenium import webdriver\n"
   ]
  },
  {
   "cell_type": "code",
   "execution_count": null,
   "id": "2fe0c34e",
   "metadata": {},
   "outputs": [],
   "source": [
    "# Cód gerenciador web driver automático:\n",
    "#pip install webdriver-manager\n",
    "\n",
    "#From selenium import webdriver\n",
    "#from selenium.wevdriver.chrome.service import Service\n",
    "#from webdriver_manager.chrome import ChromeDriverManager\n",
    "\n",
    "#servico = Service(ChromeDriverManager().install())\n",
    "#driver = Webdriver.Chrome(service=servico)"
   ]
  },
  {
   "cell_type": "code",
   "execution_count": 13,
   "id": "ddb97b20",
   "metadata": {},
   "outputs": [],
   "source": [
    "navegador = webdriver.Chrome()\n",
    "navegador.get(\"https://www.google.com/\")"
   ]
  },
  {
   "cell_type": "markdown",
   "id": "5458ee3f",
   "metadata": {},
   "source": [
    "# Selecionando elemento\n",
    "Usaremos o (find_element) para selecionar algum elemento em uma página web, mas pra isso precisamos importar o BY:<Br>\n",
    "\n",
    "from selenium.webdriver.common.by import By"
   ]
  },
  {
   "cell_type": "code",
   "execution_count": 22,
   "id": "aa6bafaf",
   "metadata": {},
   "outputs": [],
   "source": [
    "from selenium.webdriver.common.by import By\n"
   ]
  },
  {
   "cell_type": "code",
   "execution_count": 25,
   "id": "cb73970a",
   "metadata": {},
   "outputs": [],
   "source": [
    "navegador = webdriver.Chrome()\n",
    "# abre o google\n",
    "navegador.get(\"https://www.google.com/\")\n",
    "# Seleciona o xpath do campo de busca e digita a procura\n",
    "navegador.find_element(By.XPATH, \"/html/body/div[1]/div[3]/form/div[1]/div[1]/div[1]/div/div[2]/input\").send_keys(\"selenium do python\")\n",
    "# clica no botão pesquisar\n",
    "navegador.find_element(By.XPATH, \"/html/body/div[1]/div[3]/form/div[1]/div[1]/div[4]/center/input[1]\").click()"
   ]
  },
  {
   "cell_type": "markdown",
   "id": "268c534a",
   "metadata": {},
   "source": [
    "# Pegando informações de elementos\n",
    "- Pegando Texto\n",
    "- Pegando atributos"
   ]
  },
  {
   "cell_type": "code",
   "execution_count": 28,
   "id": "82b5a1b5",
   "metadata": {},
   "outputs": [
    {
     "name": "stdout",
     "output_type": "stream",
     "text": [
      "buscas que marcaram 2022\n"
     ]
    }
   ],
   "source": [
    "navegador = webdriver.Chrome()\n",
    "navegador.get(\"https://www.google.com/\")\n",
    "texto = navegador.find_element(By.XPATH, \"/html/body/div[1]/div[4]/div/div/a\").text\n",
    "print(texto)"
   ]
  },
  {
   "cell_type": "code",
   "execution_count": 32,
   "id": "9b909196",
   "metadata": {},
   "outputs": [
    {
     "name": "stdout",
     "output_type": "stream",
     "text": [
      "https://www.google.com/logos/doodles/2022/seasonal-holidays-2022-6753651837109831.4-law.gif\n"
     ]
    }
   ],
   "source": [
    "navegador = webdriver.Chrome()\n",
    "navegador.get(\"https://www.google.com/\")\n",
    "link = navegador.find_element(By.XPATH, '//*[@id=\"hplogo\"]').get_attribute('src')\n",
    "print(link)"
   ]
  },
  {
   "cell_type": "code",
   "execution_count": null,
   "id": "19235807",
   "metadata": {},
   "outputs": [],
   "source": []
  },
  {
   "cell_type": "code",
   "execution_count": null,
   "id": "74a5397c",
   "metadata": {},
   "outputs": [],
   "source": []
  }
 ],
 "metadata": {
  "kernelspec": {
   "display_name": "Python 3 (ipykernel)",
   "language": "python",
   "name": "python3"
  },
  "language_info": {
   "codemirror_mode": {
    "name": "ipython",
    "version": 3
   },
   "file_extension": ".py",
   "mimetype": "text/x-python",
   "name": "python",
   "nbconvert_exporter": "python",
   "pygments_lexer": "ipython3",
   "version": "3.9.12"
  }
 },
 "nbformat": 4,
 "nbformat_minor": 5
}
